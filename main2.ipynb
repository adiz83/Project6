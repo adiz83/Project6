{
 "cells": [
  {
   "cell_type": "code",
   "execution_count": 1,
   "metadata": {},
   "outputs": [],
   "source": [
    "import json"
   ]
  },
  {
   "cell_type": "code",
   "execution_count": 88,
   "metadata": {},
   "outputs": [
    {
     "data": {
      "text/plain": [
       "{'1': {'iphone11': [1, 2, 3, 4, 5, 6, 50, 51, 52, 53, 54, 55],\n",
       "  'iphone12': [1, 2, 7, 8, 9, 10, 50, 51, 52, 53, 54, 55]},\n",
       " '2': {'s21': [3, 11, 12, 14, 50, 51, 52, 53, 54, 55],\n",
       "  's22': [10, 11, 15, 16, 17, 50, 51, 52, 53, 54, 55]}}"
      ]
     },
     "execution_count": 88,
     "metadata": {},
     "output_type": "execute_result"
    }
   ],
   "source": [
    "import json\n",
    "with open('collection.json', 'r') as file:\n",
    "    data = json.load(file)\n",
    "\n",
    "\n",
    "data"
   ]
  },
  {
   "cell_type": "code",
   "execution_count": 106,
   "metadata": {},
   "outputs": [],
   "source": [
    "def generate_tag(inp):\n",
    "    tags=dict()\n",
    "\n",
    "    for i in range(67):\n",
    "        tags[f\"{i}\"]= []\n",
    "    for i in inp:\n",
    "        if \"iphone\" in i:\n",
    "            tags[\"1\"].append(i)\n",
    "\n",
    "        elif \"s\" in i:\n",
    "            tags[\"2\"].append(i)\n",
    "\n",
    "\n",
    "    return tags"
   ]
  },
  {
   "cell_type": "code",
   "execution_count": 107,
   "metadata": {},
   "outputs": [],
   "source": [
    "inputs=[\n",
    "    [\"iphone11\",\"iphone12\"],\n",
    "    [\"iphone11\",\"iphone12\",\"s21\"],\n",
    "    [\"iphone11\",\"iphone12\",\"s21\",\"s22\"],\n",
    "    [\"s21\",\"s22\"],\n",
    "    [\"iphone11\",\"s21\"],\n",
    "    [\"iphone12\",\"s22\"],\n",
    "]"
   ]
  },
  {
   "cell_type": "code",
   "execution_count": 108,
   "metadata": {},
   "outputs": [],
   "source": [
    "result=generate_tag(inputs[0])\n"
   ]
  },
  {
   "cell_type": "code",
   "execution_count": 109,
   "metadata": {},
   "outputs": [],
   "source": [
    "from collections import Counter"
   ]
  },
  {
   "cell_type": "code",
   "execution_count": 110,
   "metadata": {},
   "outputs": [],
   "source": [
    "def generate_final(data,inputs):\n",
    "    final_results=set()\n",
    "    temp=[]\n",
    "    for tag in inputs:\n",
    "        for keyword in inputs[tag]:\n",
    "            fine_tags=data[tag][keyword]\n",
    "            if len(final_results)==0:\n",
    "                final_results.update(fine_tags)\n",
    "\n",
    "            else:\n",
    "                final_results.intersection_update(fine_tags)\n",
    "\n",
    "            temp.extend(fine_tags)\n",
    "\n",
    "    count=Counter(temp)\n",
    "    occurence_count = count.most_common(5)\n",
    "    \n",
    "    return final_results,occurence_count"
   ]
  },
  {
   "cell_type": "code",
   "execution_count": 111,
   "metadata": {},
   "outputs": [
    {
     "name": "stdout",
     "output_type": "stream",
     "text": [
      "['iphone11', 'iphone12'] --> common among all: {1, 2, 50, 51, 52, 53, 54, 55} / Top 5 occured : [(1, 2), (2, 2), (50, 2), (51, 2), (52, 2)]\n",
      "['iphone11', 'iphone12', 's21'] --> common among all: {50, 51, 52, 53, 54, 55} / Top 5 occured : [(50, 3), (51, 3), (52, 3), (53, 3), (54, 3)]\n",
      "['iphone11', 'iphone12', 's21', 's22'] --> common among all: {50, 51, 52, 53, 54, 55} / Top 5 occured : [(50, 4), (51, 4), (52, 4), (53, 4), (54, 4)]\n",
      "['s21', 's22'] --> common among all: {11, 50, 51, 52, 53, 54, 55} / Top 5 occured : [(11, 2), (50, 2), (51, 2), (52, 2), (53, 2)]\n",
      "['iphone11', 's21'] --> common among all: {3, 50, 51, 52, 53, 54, 55} / Top 5 occured : [(3, 2), (50, 2), (51, 2), (52, 2), (53, 2)]\n",
      "['iphone12', 's22'] --> common among all: {10, 50, 51, 52, 53, 54, 55} / Top 5 occured : [(10, 2), (50, 2), (51, 2), (52, 2), (53, 2)]\n"
     ]
    }
   ],
   "source": [
    "for input in inputs:\n",
    "    result=generate_tag(input)\n",
    "    common,top5_occured = generate_final(data,result)\n",
    "    print(f\"{input} --> common among all: {common} / Top 5 occured : {top5_occured}\")"
   ]
  },
  {
   "cell_type": "code",
   "execution_count": null,
   "metadata": {},
   "outputs": [],
   "source": []
  },
  {
   "cell_type": "code",
   "execution_count": null,
   "metadata": {},
   "outputs": [],
   "source": []
  }
 ],
 "metadata": {
  "kernelspec": {
   "display_name": "base",
   "language": "python",
   "name": "python3"
  },
  "language_info": {
   "codemirror_mode": {
    "name": "ipython",
    "version": 3
   },
   "file_extension": ".py",
   "mimetype": "text/x-python",
   "name": "python",
   "nbconvert_exporter": "python",
   "pygments_lexer": "ipython3",
   "version": "3.11.4"
  }
 },
 "nbformat": 4,
 "nbformat_minor": 2
}
